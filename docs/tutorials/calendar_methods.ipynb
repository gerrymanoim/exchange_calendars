{
 "cells": [
  {
   "cell_type": "markdown",
   "metadata": {},
   "source": [
    "# Calendar methods"
   ]
  },
  {
   "cell_type": "markdown",
   "metadata": {},
   "source": [
    "This tutorial offers a walk through of all the ExchangeCalendar methods (for properties see the [calendar properties](./calendar_properties.ipynb) tutorial).\n",
    "\n",
    "The following sections cover methods according to the nature of the argument(s) they take.\n",
    "\n",
    "* [Methods that query a Date](#Methods-that-query-a-Date)  \n",
    "* [Methods that query a Session](#Methods-that-query-a-Session)  \n",
    "* [Methods that query a Minute](#Methods-that-query-a-Minute)  \n",
    "* [Methods that query multiple TradingMinute](#Methods-that-query-multiple-TradingMinute)  \n",
    "* [Methods that query a Date/Session range](#Methods-that-query-a-Date/Session-range)  \n",
    "\n",
    "The following sections cover methods that evaluate an index of TradingMinute or Session.\n",
    "* [Methods that evaluate an index of contiguous TradingMinute](#Methods-that-evaluate-an-index-of-contiguous-TradingMinute)  \n",
    "* [Methods that evaluate an index of contiguous Session](#Methods-that-evaluate-an-index-of-contiguous-Session)  \n",
    "\n",
    "`Date` and `Session` refer to types for 'session' parameters (see [sessions.ipynb](./sessions.ipynb) for a tutorial on how to work with sessions).  \n",
    "`Minute` and `TradingMinute` refer to types for 'minute' parameters (see [minutes.ipynb](./minutes.ipynb) for a tutorial on how to work with mintues)."
   ]
  },
  {
   "cell_type": "code",
   "execution_count": 2,
   "metadata": {},
   "outputs": [],
   "source": [
    "# setup\n",
    "import exchange_calendars as xcals\n",
    "import pandas as pd\n",
    "\n",
    "one_minute = pd.Timedelta(1, \"T\")\n",
    "\n",
    "xnys = xcals.get_calendar(\"XNYS\", side=\"left\") # New York Stock Exchange\n",
    "xhkg = xcals.get_calendar(\"XHKG\", side=\"left\") # Hong Kong Stock Exchange"
   ]
  },
  {
   "cell_type": "markdown",
   "metadata": {},
   "source": [
    "### Methods that query a Date"
   ]
  },
  {
   "cell_type": "markdown",
   "metadata": {},
   "source": [
    "The parameter of methods in this section takes a `Date` type."
   ]
  },
  {
   "cell_type": "code",
   "execution_count": 3,
   "metadata": {},
   "outputs": [
    {
     "data": {
      "text/html": [
       "<div>\n",
       "<style scoped>\n",
       "    .dataframe tbody tr th:only-of-type {\n",
       "        vertical-align: middle;\n",
       "    }\n",
       "\n",
       "    .dataframe tbody tr th {\n",
       "        vertical-align: top;\n",
       "    }\n",
       "\n",
       "    .dataframe thead th {\n",
       "        text-align: right;\n",
       "    }\n",
       "</style>\n",
       "<table border=\"1\" class=\"dataframe\">\n",
       "  <thead>\n",
       "    <tr style=\"text-align: right;\">\n",
       "      <th></th>\n",
       "      <th>market_open</th>\n",
       "      <th>break_start</th>\n",
       "      <th>break_end</th>\n",
       "      <th>market_close</th>\n",
       "    </tr>\n",
       "  </thead>\n",
       "  <tbody>\n",
       "    <tr>\n",
       "      <th>2020-12-31 00:00:00+00:00</th>\n",
       "      <td>2020-12-31 14:30:00</td>\n",
       "      <td>NaT</td>\n",
       "      <td>NaT</td>\n",
       "      <td>2020-12-31 21:00:00</td>\n",
       "    </tr>\n",
       "    <tr>\n",
       "      <th>2021-01-04 00:00:00+00:00</th>\n",
       "      <td>2021-01-04 14:30:00</td>\n",
       "      <td>NaT</td>\n",
       "      <td>NaT</td>\n",
       "      <td>2021-01-04 21:00:00</td>\n",
       "    </tr>\n",
       "    <tr>\n",
       "      <th>2021-01-05 00:00:00+00:00</th>\n",
       "      <td>2021-01-05 14:30:00</td>\n",
       "      <td>NaT</td>\n",
       "      <td>NaT</td>\n",
       "      <td>2021-01-05 21:00:00</td>\n",
       "    </tr>\n",
       "  </tbody>\n",
       "</table>\n",
       "</div>"
      ],
      "text/plain": [
       "                                  market_open break_start break_end  \\\n",
       "2020-12-31 00:00:00+00:00 2020-12-31 14:30:00         NaT       NaT   \n",
       "2021-01-04 00:00:00+00:00 2021-01-04 14:30:00         NaT       NaT   \n",
       "2021-01-05 00:00:00+00:00 2021-01-05 14:30:00         NaT       NaT   \n",
       "\n",
       "                                 market_close  \n",
       "2020-12-31 00:00:00+00:00 2020-12-31 21:00:00  \n",
       "2021-01-04 00:00:00+00:00 2021-01-04 21:00:00  \n",
       "2021-01-05 00:00:00+00:00 2021-01-05 21:00:00  "
      ]
     },
     "execution_count": 3,
     "metadata": {},
     "output_type": "execute_result"
    }
   ],
   "source": [
    "# for reference, all times are UTC\n",
    "xnys.schedule.loc[\"2020-12-31\":\"2021-01-05\"]"
   ]
  },
  {
   "cell_type": "code",
   "execution_count": 4,
   "metadata": {},
   "outputs": [
    {
     "data": {
      "text/plain": [
       "(False, True)"
      ]
     },
     "execution_count": 4,
     "metadata": {},
     "output_type": "execute_result"
    }
   ],
   "source": [
    "# does a date represent a session\n",
    "xnys.is_session(\"2021-01-01\"), xnys.is_session(\"2021-01-05\")"
   ]
  },
  {
   "cell_type": "markdown",
   "metadata": {},
   "source": [
    "**`date_to_session`** will return a session for the passed `date` if `date` represents a session, or otherwise the closest session in the passed `direction`."
   ]
  },
  {
   "cell_type": "code",
   "execution_count": 5,
   "metadata": {},
   "outputs": [
    {
     "data": {
      "text/plain": [
       "Timestamp('2021-01-04 00:00:00+0000', tz='UTC', freq='C')"
      ]
     },
     "execution_count": 5,
     "metadata": {},
     "output_type": "execute_result"
    }
   ],
   "source": [
    "xnys.date_to_session_label(\"2021-01-01\", direction=\"next\")"
   ]
  },
  {
   "cell_type": "code",
   "execution_count": 6,
   "metadata": {},
   "outputs": [
    {
     "data": {
      "text/plain": [
       "Timestamp('2020-12-31 00:00:00+0000', tz='UTC', freq='C')"
      ]
     },
     "execution_count": 6,
     "metadata": {},
     "output_type": "execute_result"
    }
   ],
   "source": [
    "xnys.date_to_session_label(\"2021-01-01\", direction=\"previous\")"
   ]
  },
  {
   "cell_type": "code",
   "execution_count": null,
   "metadata": {},
   "outputs": [],
   "source": [
    "# ValueError raised if `date` is not a session and no `direction` is passed\n",
    "xnys.date_to_session_label(\"2021-01-01\")\n",
    "# run cell for full traceback"
   ]
  },
  {
   "cell_type": "markdown",
   "metadata": {},
   "source": [
    "```python\n",
    "---------------------------------------------------------------------------\n",
    "ValueError                                Traceback (most recent call last)\n",
    "~\\AppData\\Local\\Temp/ipykernel_9148/2744539978.py in <module>\n",
    "----> 1 xnys.date_to_session_label(\"2021-01-01\")\n",
    "\n",
    "ValueError: `date` '2021-01-01 00:00:00+00:00' is not a session label. Consider passing a `direction`.\n",
    "```"
   ]
  },
  {
   "cell_type": "code",
   "execution_count": 8,
   "metadata": {},
   "outputs": [
    {
     "data": {
      "text/plain": [
       "Timestamp('2021-01-05 00:00:00+0000', tz='UTC')"
      ]
     },
     "execution_count": 8,
     "metadata": {},
     "output_type": "execute_result"
    }
   ],
   "source": [
    "# date is a session, so `direction` ignored\n",
    "xnys.date_to_session_label(\"2021-01-05\", direction=\"next\")"
   ]
  },
  {
   "cell_type": "markdown",
   "metadata": {},
   "source": [
    "### Methods that query a Session"
   ]
  },
  {
   "cell_type": "markdown",
   "metadata": {},
   "source": [
    "The parameter of methods in this section takes a `Session` type.\n",
    "\n",
    "The following methods can be used to return the **open, close** and **break times** of a session..."
   ]
  },
  {
   "cell_type": "code",
   "execution_count": 9,
   "metadata": {},
   "outputs": [
    {
     "data": {
      "text/html": [
       "<div>\n",
       "<style scoped>\n",
       "    .dataframe tbody tr th:only-of-type {\n",
       "        vertical-align: middle;\n",
       "    }\n",
       "\n",
       "    .dataframe tbody tr th {\n",
       "        vertical-align: top;\n",
       "    }\n",
       "\n",
       "    .dataframe thead th {\n",
       "        text-align: right;\n",
       "    }\n",
       "</style>\n",
       "<table border=\"1\" class=\"dataframe\">\n",
       "  <thead>\n",
       "    <tr style=\"text-align: right;\">\n",
       "      <th></th>\n",
       "      <th>market_open</th>\n",
       "      <th>break_start</th>\n",
       "      <th>break_end</th>\n",
       "      <th>market_close</th>\n",
       "    </tr>\n",
       "  </thead>\n",
       "  <tbody>\n",
       "    <tr>\n",
       "      <th>2021-01-04 00:00:00+00:00</th>\n",
       "      <td>2021-01-04 01:30:00</td>\n",
       "      <td>2021-01-04 04:00:00</td>\n",
       "      <td>2021-01-04 05:00:00</td>\n",
       "      <td>2021-01-04 08:00:00</td>\n",
       "    </tr>\n",
       "  </tbody>\n",
       "</table>\n",
       "</div>"
      ],
      "text/plain": [
       "                                  market_open         break_start  \\\n",
       "2021-01-04 00:00:00+00:00 2021-01-04 01:30:00 2021-01-04 04:00:00   \n",
       "\n",
       "                                    break_end        market_close  \n",
       "2021-01-04 00:00:00+00:00 2021-01-04 05:00:00 2021-01-04 08:00:00  "
      ]
     },
     "execution_count": 9,
     "metadata": {},
     "output_type": "execute_result"
    }
   ],
   "source": [
    "# for reference, all times are UTC\n",
    "session = \"2021-01-04\"\n",
    "xhkg.schedule.loc[[session]]"
   ]
  },
  {
   "cell_type": "code",
   "execution_count": 10,
   "metadata": {},
   "outputs": [
    {
     "data": {
      "text/plain": [
       "(Timestamp('2021-01-04 01:30:00+0000', tz='UTC'),\n",
       " Timestamp('2021-01-04 08:00:00+0000', tz='UTC'))"
      ]
     },
     "execution_count": 10,
     "metadata": {},
     "output_type": "execute_result"
    }
   ],
   "source": [
    "xhkg.session_open(session), xhkg.session_close(session)"
   ]
  },
  {
   "cell_type": "code",
   "execution_count": 11,
   "metadata": {},
   "outputs": [
    {
     "data": {
      "text/plain": [
       "(Timestamp('2021-01-04 01:30:00+0000', tz='UTC'),\n",
       " Timestamp('2021-01-04 08:00:00+0000', tz='UTC'))"
      ]
     },
     "execution_count": 11,
     "metadata": {},
     "output_type": "execute_result"
    }
   ],
   "source": [
    "# or\n",
    "xhkg.open_and_close_for_session(session)"
   ]
  },
  {
   "cell_type": "code",
   "execution_count": 12,
   "metadata": {},
   "outputs": [
    {
     "data": {
      "text/plain": [
       "(Timestamp('2021-01-04 04:00:00+0000', tz='UTC'),\n",
       " Timestamp('2021-01-04 05:00:00+0000', tz='UTC'))"
      ]
     },
     "execution_count": 12,
     "metadata": {},
     "output_type": "execute_result"
    }
   ],
   "source": [
    "xhkg.session_break_start(session), xhkg.session_break_end(session)"
   ]
  },
  {
   "cell_type": "code",
   "execution_count": 13,
   "metadata": {},
   "outputs": [
    {
     "data": {
      "text/plain": [
       "(Timestamp('2021-01-04 04:00:00+0000', tz='UTC'),\n",
       " Timestamp('2021-01-04 05:00:00+0000', tz='UTC'))"
      ]
     },
     "execution_count": 13,
     "metadata": {},
     "output_type": "execute_result"
    }
   ],
   "source": [
    "# or\n",
    "xhkg.break_start_and_end_for_session(session)"
   ]
  },
  {
   "cell_type": "code",
   "execution_count": 14,
   "metadata": {},
   "outputs": [
    {
     "data": {
      "text/plain": [
       "Timestamp('2021-01-04 09:30:00+0800', tz='Asia/Hong_Kong')"
      ]
     },
     "execution_count": 14,
     "metadata": {},
     "output_type": "execute_result"
    }
   ],
   "source": [
    "# in local time\n",
    "xhkg.session_open(session).tz_convert(xhkg.tz)"
   ]
  },
  {
   "cell_type": "markdown",
   "metadata": {},
   "source": [
    "The **`session_*_minute`** methods return a boundary trading minute for a session. "
   ]
  },
  {
   "cell_type": "code",
   "execution_count": 15,
   "metadata": {},
   "outputs": [
    {
     "data": {
      "text/plain": [
       "(Timestamp('2021-01-04 01:30:00+0000', tz='UTC'),\n",
       " Timestamp('2021-01-04 07:59:00+0000', tz='UTC'))"
      ]
     },
     "execution_count": 15,
     "metadata": {},
     "output_type": "execute_result"
    }
   ],
   "source": [
    "xhkg.session_first_minute(session), xhkg.session_last_minute(session)"
   ]
  },
  {
   "cell_type": "code",
   "execution_count": 16,
   "metadata": {},
   "outputs": [
    {
     "data": {
      "text/plain": [
       "(Timestamp('2021-01-04 03:59:00+0000', tz='UTC'),\n",
       " Timestamp('2021-01-04 05:00:00+0000', tz='UTC'))"
      ]
     },
     "execution_count": 16,
     "metadata": {},
     "output_type": "execute_result"
    }
   ],
   "source": [
    "xhkg.session_last_am_minute(session), xhkg.session_first_pm_minute(session)"
   ]
  },
  {
   "cell_type": "code",
   "execution_count": 17,
   "metadata": {},
   "outputs": [
    {
     "data": {
      "text/plain": [
       "(Timestamp('2021-01-04 01:30:00+0000', tz='UTC'),\n",
       " Timestamp('2021-01-04 07:59:00+0000', tz='UTC'))"
      ]
     },
     "execution_count": 17,
     "metadata": {},
     "output_type": "execute_result"
    }
   ],
   "source": [
    "# or get first and last minutes together...\n",
    "xhkg.session_first_and_last_minute(session)"
   ]
  },
  {
   "cell_type": "code",
   "execution_count": 18,
   "metadata": {},
   "outputs": [
    {
     "data": {
      "text/plain": [
       "(Timestamp('2021-01-04 01:31:00+0000', tz='UTC'),\n",
       " Timestamp('2021-01-04 08:00:00+0000', tz='UTC'))"
      ]
     },
     "execution_count": 18,
     "metadata": {},
     "output_type": "execute_result"
    }
   ],
   "source": [
    "# NB with \"right\" side...\n",
    "xhkg_right = xcals.get_calendar(\"XHKG\", side=\"right\")\n",
    "xhkg_right.session_first_and_last_minute(session)"
   ]
  },
  {
   "cell_type": "markdown",
   "metadata": {},
   "source": [
    "**`session_has_break`** to query if a session has a break."
   ]
  },
  {
   "cell_type": "code",
   "execution_count": 19,
   "metadata": {},
   "outputs": [
    {
     "data": {
      "text/plain": [
       "True"
      ]
     },
     "execution_count": 19,
     "metadata": {},
     "output_type": "execute_result"
    }
   ],
   "source": [
    "# Hong Kong has a break (at least on `session`)...\n",
    "xhkg.session_has_break(session)"
   ]
  },
  {
   "cell_type": "code",
   "execution_count": 20,
   "metadata": {},
   "outputs": [
    {
     "data": {
      "text/plain": [
       "False"
      ]
     },
     "execution_count": 20,
     "metadata": {},
     "output_type": "execute_result"
    }
   ],
   "source": [
    "# but New York doesn't\n",
    "xnys.session_has_break(session)"
   ]
  },
  {
   "cell_type": "code",
   "execution_count": 21,
   "metadata": {},
   "outputs": [
    {
     "data": {
      "text/html": [
       "<div>\n",
       "<style scoped>\n",
       "    .dataframe tbody tr th:only-of-type {\n",
       "        vertical-align: middle;\n",
       "    }\n",
       "\n",
       "    .dataframe tbody tr th {\n",
       "        vertical-align: top;\n",
       "    }\n",
       "\n",
       "    .dataframe thead th {\n",
       "        text-align: right;\n",
       "    }\n",
       "</style>\n",
       "<table border=\"1\" class=\"dataframe\">\n",
       "  <thead>\n",
       "    <tr style=\"text-align: right;\">\n",
       "      <th></th>\n",
       "      <th>market_open</th>\n",
       "      <th>break_start</th>\n",
       "      <th>break_end</th>\n",
       "      <th>market_close</th>\n",
       "    </tr>\n",
       "  </thead>\n",
       "  <tbody>\n",
       "    <tr>\n",
       "      <th>2021-01-04 00:00:00+00:00</th>\n",
       "      <td>2021-01-04 14:30:00</td>\n",
       "      <td>NaT</td>\n",
       "      <td>NaT</td>\n",
       "      <td>2021-01-04 21:00:00</td>\n",
       "    </tr>\n",
       "  </tbody>\n",
       "</table>\n",
       "</div>"
      ],
      "text/plain": [
       "                                  market_open break_start break_end  \\\n",
       "2021-01-04 00:00:00+00:00 2021-01-04 14:30:00         NaT       NaT   \n",
       "\n",
       "                                 market_close  \n",
       "2021-01-04 00:00:00+00:00 2021-01-04 21:00:00  "
      ]
     },
     "execution_count": 21,
     "metadata": {},
     "output_type": "execute_result"
    }
   ],
   "source": [
    "# see...\n",
    "xnys.schedule.loc[[session]]"
   ]
  },
  {
   "cell_type": "markdown",
   "metadata": {},
   "source": [
    "**`next_session`** and **`previous_session`** do what they say on the tin."
   ]
  },
  {
   "cell_type": "code",
   "execution_count": 22,
   "metadata": {},
   "outputs": [
    {
     "data": {
      "text/plain": [
       "'2021-01-04'"
      ]
     },
     "execution_count": 22,
     "metadata": {},
     "output_type": "execute_result"
    }
   ],
   "source": [
    "# just to recall...\n",
    "session"
   ]
  },
  {
   "cell_type": "code",
   "execution_count": 23,
   "metadata": {},
   "outputs": [
    {
     "data": {
      "text/plain": [
       "Timestamp('2020-12-31 00:00:00+0000', tz='UTC', freq='C')"
      ]
     },
     "execution_count": 23,
     "metadata": {},
     "output_type": "execute_result"
    }
   ],
   "source": [
    "xhkg.previous_session_label(session)"
   ]
  },
  {
   "cell_type": "code",
   "execution_count": 24,
   "metadata": {},
   "outputs": [
    {
     "data": {
      "text/plain": [
       "Timestamp('2021-01-05 00:00:00+0000', tz='UTC', freq='C')"
      ]
     },
     "execution_count": 24,
     "metadata": {},
     "output_type": "execute_result"
    }
   ],
   "source": [
    "xhkg.next_session_label(session)"
   ]
  },
  {
   "cell_type": "markdown",
   "metadata": {},
   "source": [
    "**`minutes_for_session`** is a cracker - returns an index of all the trading minutes of the given session"
   ]
  },
  {
   "cell_type": "code",
   "execution_count": 25,
   "metadata": {},
   "outputs": [
    {
     "data": {
      "text/plain": [
       "DatetimeIndex(['2021-01-04 01:30:00+00:00', '2021-01-04 01:31:00+00:00',\n",
       "               '2021-01-04 01:32:00+00:00', '2021-01-04 01:33:00+00:00',\n",
       "               '2021-01-04 01:34:00+00:00', '2021-01-04 01:35:00+00:00',\n",
       "               '2021-01-04 01:36:00+00:00', '2021-01-04 01:37:00+00:00',\n",
       "               '2021-01-04 01:38:00+00:00', '2021-01-04 01:39:00+00:00',\n",
       "               ...\n",
       "               '2021-01-04 07:50:00+00:00', '2021-01-04 07:51:00+00:00',\n",
       "               '2021-01-04 07:52:00+00:00', '2021-01-04 07:53:00+00:00',\n",
       "               '2021-01-04 07:54:00+00:00', '2021-01-04 07:55:00+00:00',\n",
       "               '2021-01-04 07:56:00+00:00', '2021-01-04 07:57:00+00:00',\n",
       "               '2021-01-04 07:58:00+00:00', '2021-01-04 07:59:00+00:00'],\n",
       "              dtype='datetime64[ns, UTC]', length=330, freq=None)"
      ]
     },
     "execution_count": 25,
     "metadata": {},
     "output_type": "execute_result"
    }
   ],
   "source": [
    "xhkg.minutes_for_session(session)"
   ]
  },
  {
   "cell_type": "markdown",
   "metadata": {},
   "source": [
    "### Methods that query a Minute"
   ]
  },
  {
   "cell_type": "markdown",
   "metadata": {},
   "source": [
    "The parameter of methods in this section takes a `Minute` type."
   ]
  },
  {
   "cell_type": "markdown",
   "metadata": {},
   "source": [
    "**`is_trading_minute`** returns a boolean indicating if a minute is a trading minute."
   ]
  },
  {
   "cell_type": "code",
   "execution_count": 26,
   "metadata": {},
   "outputs": [
    {
     "data": {
      "text/html": [
       "<div>\n",
       "<style scoped>\n",
       "    .dataframe tbody tr th:only-of-type {\n",
       "        vertical-align: middle;\n",
       "    }\n",
       "\n",
       "    .dataframe tbody tr th {\n",
       "        vertical-align: top;\n",
       "    }\n",
       "\n",
       "    .dataframe thead th {\n",
       "        text-align: right;\n",
       "    }\n",
       "</style>\n",
       "<table border=\"1\" class=\"dataframe\">\n",
       "  <thead>\n",
       "    <tr style=\"text-align: right;\">\n",
       "      <th></th>\n",
       "      <th>market_open</th>\n",
       "      <th>break_start</th>\n",
       "      <th>break_end</th>\n",
       "      <th>market_close</th>\n",
       "    </tr>\n",
       "  </thead>\n",
       "  <tbody>\n",
       "    <tr>\n",
       "      <th>2021-01-04 00:00:00+00:00</th>\n",
       "      <td>2021-01-04 01:30:00</td>\n",
       "      <td>2021-01-04 04:00:00</td>\n",
       "      <td>2021-01-04 05:00:00</td>\n",
       "      <td>2021-01-04 08:00:00</td>\n",
       "    </tr>\n",
       "  </tbody>\n",
       "</table>\n",
       "</div>"
      ],
      "text/plain": [
       "                                  market_open         break_start  \\\n",
       "2021-01-04 00:00:00+00:00 2021-01-04 01:30:00 2021-01-04 04:00:00   \n",
       "\n",
       "                                    break_end        market_close  \n",
       "2021-01-04 00:00:00+00:00 2021-01-04 05:00:00 2021-01-04 08:00:00  "
      ]
     },
     "execution_count": 26,
     "metadata": {},
     "output_type": "execute_result"
    }
   ],
   "source": [
    "# for reference\n",
    "xhkg.schedule.loc[[\"2021-01-04\"]]"
   ]
  },
  {
   "cell_type": "code",
   "execution_count": 27,
   "metadata": {},
   "outputs": [
    {
     "data": {
      "text/plain": [
       "False"
      ]
     },
     "execution_count": 27,
     "metadata": {},
     "output_type": "execute_result"
    }
   ],
   "source": [
    "xhkg.is_trading_minute(\"2021-01-04 01:25\")"
   ]
  },
  {
   "cell_type": "code",
   "execution_count": 28,
   "metadata": {},
   "outputs": [
    {
     "data": {
      "text/plain": [
       "True"
      ]
     },
     "execution_count": 28,
     "metadata": {},
     "output_type": "execute_result"
    }
   ],
   "source": [
    "xhkg.is_trading_minute(\"2021-01-04 01:35\")"
   ]
  },
  {
   "cell_type": "code",
   "execution_count": 29,
   "metadata": {},
   "outputs": [
    {
     "data": {
      "text/plain": [
       "False"
      ]
     },
     "execution_count": 29,
     "metadata": {},
     "output_type": "execute_result"
    }
   ],
   "source": [
    "break_minute = \"2021-01-04 04:35\"\n",
    "xhkg.is_trading_minute(break_minute)"
   ]
  },
  {
   "cell_type": "markdown",
   "metadata": {},
   "source": [
    "**`is_break_minute`** returns a boolean indicating if a minute lies within a lunch break. Break minutes lie between the last trading minute of the morning subsession and first trading minute of the afternoon subsession, exclusive of both (a break minute cannot be a trading minute)."
   ]
  },
  {
   "cell_type": "code",
   "execution_count": 30,
   "metadata": {},
   "outputs": [
    {
     "data": {
      "text/plain": [
       "True"
      ]
     },
     "execution_count": 30,
     "metadata": {},
     "output_type": "execute_result"
    }
   ],
   "source": [
    "xhkg.is_break_minute(break_minute)"
   ]
  },
  {
   "cell_type": "markdown",
   "metadata": {},
   "source": [
    "**`is_open_on_minute`** can take an optional `include_breaks` argument. If `include_breaks` is False (the default) then the method behaves in the same way as `is_trading_minute`. If `include_breaks` is True then the method will return True if `minute` is either a trading minute or a break minute (otherwise returns False)."
   ]
  },
  {
   "cell_type": "code",
   "execution_count": 31,
   "metadata": {},
   "outputs": [
    {
     "data": {
      "text/plain": [
       "False"
      ]
     },
     "execution_count": 31,
     "metadata": {},
     "output_type": "execute_result"
    }
   ],
   "source": [
    "xhkg.is_open_on_minute(break_minute)"
   ]
  },
  {
   "cell_type": "code",
   "execution_count": 32,
   "metadata": {},
   "outputs": [
    {
     "data": {
      "text/plain": [
       "True"
      ]
     },
     "execution_count": 32,
     "metadata": {},
     "output_type": "execute_result"
    }
   ],
   "source": [
    "xhkg.is_open_on_minute(break_minute, ignore_breaks=True)"
   ]
  },
  {
   "cell_type": "markdown",
   "metadata": {},
   "source": [
    "**`previous_open`**, **`next_open`**, **`previous_close`** and **`next_close`** will return the previous or next open or close relative to the passed `minute`. NB Which minutes are treated as trading minutes is irrelevant."
   ]
  },
  {
   "cell_type": "code",
   "execution_count": 33,
   "metadata": {},
   "outputs": [
    {
     "data": {
      "text/html": [
       "<div>\n",
       "<style scoped>\n",
       "    .dataframe tbody tr th:only-of-type {\n",
       "        vertical-align: middle;\n",
       "    }\n",
       "\n",
       "    .dataframe tbody tr th {\n",
       "        vertical-align: top;\n",
       "    }\n",
       "\n",
       "    .dataframe thead th {\n",
       "        text-align: right;\n",
       "    }\n",
       "</style>\n",
       "<table border=\"1\" class=\"dataframe\">\n",
       "  <thead>\n",
       "    <tr style=\"text-align: right;\">\n",
       "      <th></th>\n",
       "      <th>market_open</th>\n",
       "      <th>break_start</th>\n",
       "      <th>break_end</th>\n",
       "      <th>market_close</th>\n",
       "    </tr>\n",
       "  </thead>\n",
       "  <tbody>\n",
       "    <tr>\n",
       "      <th>2021-01-04 00:00:00+00:00</th>\n",
       "      <td>2021-01-04 14:30:00</td>\n",
       "      <td>NaT</td>\n",
       "      <td>NaT</td>\n",
       "      <td>2021-01-04 21:00:00</td>\n",
       "    </tr>\n",
       "    <tr>\n",
       "      <th>2021-01-05 00:00:00+00:00</th>\n",
       "      <td>2021-01-05 14:30:00</td>\n",
       "      <td>NaT</td>\n",
       "      <td>NaT</td>\n",
       "      <td>2021-01-05 21:00:00</td>\n",
       "    </tr>\n",
       "  </tbody>\n",
       "</table>\n",
       "</div>"
      ],
      "text/plain": [
       "                                  market_open break_start break_end  \\\n",
       "2021-01-04 00:00:00+00:00 2021-01-04 14:30:00         NaT       NaT   \n",
       "2021-01-05 00:00:00+00:00 2021-01-05 14:30:00         NaT       NaT   \n",
       "\n",
       "                                 market_close  \n",
       "2021-01-04 00:00:00+00:00 2021-01-04 21:00:00  \n",
       "2021-01-05 00:00:00+00:00 2021-01-05 21:00:00  "
      ]
     },
     "execution_count": 33,
     "metadata": {},
     "output_type": "execute_result"
    }
   ],
   "source": [
    "# for reference\n",
    "xnys.schedule.loc[\"2021-01-04\":\"2021-01-05\"]"
   ]
  },
  {
   "cell_type": "code",
   "execution_count": 34,
   "metadata": {},
   "outputs": [],
   "source": [
    "open_05 = xnys.session_open(\"2021-01-05\")"
   ]
  },
  {
   "cell_type": "code",
   "execution_count": 35,
   "metadata": {},
   "outputs": [
    {
     "data": {
      "text/plain": [
       "(Timestamp('2021-01-04 14:30:00+0000', tz='UTC'),\n",
       " Timestamp('2021-01-06 14:30:00+0000', tz='UTC'))"
      ]
     },
     "execution_count": 35,
     "metadata": {},
     "output_type": "execute_result"
    }
   ],
   "source": [
    "xnys.previous_open(open_05), xnys.next_open(open_05)"
   ]
  },
  {
   "cell_type": "code",
   "execution_count": 36,
   "metadata": {},
   "outputs": [
    {
     "data": {
      "text/plain": [
       "Timestamp('2021-01-05 14:30:00+0000', tz='UTC')"
      ]
     },
     "execution_count": 36,
     "metadata": {},
     "output_type": "execute_result"
    }
   ],
   "source": [
    "xnys.previous_open(open_05 + one_minute)"
   ]
  },
  {
   "cell_type": "code",
   "execution_count": 37,
   "metadata": {},
   "outputs": [
    {
     "data": {
      "text/plain": [
       "Timestamp('2021-01-05 21:00:00+0000', tz='UTC')"
      ]
     },
     "execution_count": 37,
     "metadata": {},
     "output_type": "execute_result"
    }
   ],
   "source": [
    "xnys.next_close(open_05)"
   ]
  },
  {
   "cell_type": "markdown",
   "metadata": {},
   "source": [
    "**`previous_minute`** and **`next_minute`** return the first trading minute prior to / following `minute`."
   ]
  },
  {
   "cell_type": "code",
   "execution_count": 38,
   "metadata": {},
   "outputs": [
    {
     "data": {
      "text/plain": [
       "Timestamp('2021-01-05 14:30:00+0000', tz='UTC')"
      ]
     },
     "execution_count": 38,
     "metadata": {},
     "output_type": "execute_result"
    }
   ],
   "source": [
    "minute = xnys.all_first_minutes[\"2021-01-05\"]\n",
    "minute"
   ]
  },
  {
   "cell_type": "code",
   "execution_count": 39,
   "metadata": {},
   "outputs": [
    {
     "data": {
      "text/plain": [
       "(Timestamp('2021-01-04 20:59:00+0000', tz='UTC'),\n",
       " Timestamp('2021-01-05 14:31:00+0000', tz='UTC'))"
      ]
     },
     "execution_count": 39,
     "metadata": {},
     "output_type": "execute_result"
    }
   ],
   "source": [
    "xnys.previous_minute(minute), xnys.next_minute(minute)"
   ]
  },
  {
   "cell_type": "code",
   "execution_count": 40,
   "metadata": {},
   "outputs": [
    {
     "data": {
      "text/plain": [
       "Timestamp('2021-01-05 14:28:00+0000', tz='UTC')"
      ]
     },
     "execution_count": 40,
     "metadata": {},
     "output_type": "execute_result"
    }
   ],
   "source": [
    "minute -= (one_minute * 2)\n",
    "minute"
   ]
  },
  {
   "cell_type": "code",
   "execution_count": 41,
   "metadata": {},
   "outputs": [
    {
     "data": {
      "text/plain": [
       "(Timestamp('2021-01-04 20:59:00+0000', tz='UTC'),\n",
       " Timestamp('2021-01-05 14:30:00+0000', tz='UTC'))"
      ]
     },
     "execution_count": 41,
     "metadata": {},
     "output_type": "execute_result"
    }
   ],
   "source": [
    "xnys.previous_minute(minute), xnys.next_minute(minute)"
   ]
  },
  {
   "cell_type": "markdown",
   "metadata": {},
   "source": [
    "**`minute_to_session`** returns the session associated with `minute`. If `minute` is a trading minute or a break minute then this will be the session of which the minute is a trading/break minute."
   ]
  },
  {
   "cell_type": "code",
   "execution_count": 42,
   "metadata": {},
   "outputs": [
    {
     "data": {
      "text/plain": [
       "Timestamp('2001-09-24 17:23:00+0000', tz='UTC')"
      ]
     },
     "execution_count": 42,
     "metadata": {},
     "output_type": "execute_result"
    }
   ],
   "source": [
    "trading_minute = xnys.all_minutes[233]  # get a trading minute\n",
    "trading_minute"
   ]
  },
  {
   "cell_type": "code",
   "execution_count": 43,
   "metadata": {},
   "outputs": [
    {
     "data": {
      "text/plain": [
       "Timestamp('2001-09-24 00:00:00+0000', tz='UTC', freq='C')"
      ]
     },
     "execution_count": 43,
     "metadata": {},
     "output_type": "execute_result"
    }
   ],
   "source": [
    "xnys.minute_to_session_label(trading_minute)"
   ]
  },
  {
   "cell_type": "markdown",
   "metadata": {},
   "source": [
    "If `minute` is not a trading or break minute then the return is determined by the optional `direction` parameter. If `direction` is \"next\" the return will be the first session after `minute`, whilst if `direction` is \"previous\" the return will be the first session before `minute`."
   ]
  },
  {
   "cell_type": "code",
   "execution_count": 44,
   "metadata": {},
   "outputs": [
    {
     "data": {
      "text/plain": [
       "(Timestamp('2021-01-05 14:28:00+0000', tz='UTC'), False)"
      ]
     },
     "execution_count": 44,
     "metadata": {},
     "output_type": "execute_result"
    }
   ],
   "source": [
    "# for reference\n",
    "minute, xnys.is_trading_minute(minute)"
   ]
  },
  {
   "cell_type": "code",
   "execution_count": 45,
   "metadata": {},
   "outputs": [
    {
     "data": {
      "text/plain": [
       "Timestamp('2021-01-05 00:00:00+0000', tz='UTC', freq='C')"
      ]
     },
     "execution_count": 45,
     "metadata": {},
     "output_type": "execute_result"
    }
   ],
   "source": [
    "# default `direction` is \"next\"\n",
    "xnys.minute_to_session_label(minute)"
   ]
  },
  {
   "cell_type": "code",
   "execution_count": 46,
   "metadata": {},
   "outputs": [
    {
     "data": {
      "text/plain": [
       "Timestamp('2021-01-04 00:00:00+0000', tz='UTC', freq='C')"
      ]
     },
     "execution_count": 46,
     "metadata": {},
     "output_type": "execute_result"
    }
   ],
   "source": [
    "xnys.minute_to_session_label(minute, direction=\"previous\")"
   ]
  },
  {
   "cell_type": "markdown",
   "metadata": {},
   "source": [
    "`direction` can also take \"none\", in which case `minute` is required to be a trading or break minute. To the contrary a ValueError is raised:"
   ]
  },
  {
   "cell_type": "code",
   "execution_count": null,
   "metadata": {},
   "outputs": [],
   "source": [
    "xnys.minute_to_session_label(minute, direction=\"none\")\n",
    "# run cell for full traceback"
   ]
  },
  {
   "cell_type": "markdown",
   "metadata": {},
   "source": [
    "```python\n",
    "---------------------------------------------------------------------------\n",
    "ValueError                                Traceback (most recent call last)\n",
    "~\\AppData\\Local\\Temp/ipykernel_9148/525547029.py in <module>\n",
    "----> 1 xnys.minute_to_session_label(minute, direction=\"none\")\n",
    "\n",
    "ValueError: Received `minute` as '2021-01-05 14:29:00+00:00' although this is not an exchange minute. Consider passing `direction` as 'next' or 'previous'.\n",
    "```"
   ]
  },
  {
   "cell_type": "markdown",
   "metadata": {},
   "source": [
    "### Methods that evaluate an index of contiguous TradingMinute"
   ]
  },
  {
   "cell_type": "markdown",
   "metadata": {},
   "source": [
    "**`minutes_in_range`** returns all trading minutes within and inclusive of `start_minute` and `end_minute`. The parameters take `Minute` type (i.e.they do not need to represent actual trading minutes)."
   ]
  },
  {
   "cell_type": "code",
   "execution_count": 48,
   "metadata": {},
   "outputs": [
    {
     "data": {
      "text/html": [
       "<div>\n",
       "<style scoped>\n",
       "    .dataframe tbody tr th:only-of-type {\n",
       "        vertical-align: middle;\n",
       "    }\n",
       "\n",
       "    .dataframe tbody tr th {\n",
       "        vertical-align: top;\n",
       "    }\n",
       "\n",
       "    .dataframe thead th {\n",
       "        text-align: right;\n",
       "    }\n",
       "</style>\n",
       "<table border=\"1\" class=\"dataframe\">\n",
       "  <thead>\n",
       "    <tr style=\"text-align: right;\">\n",
       "      <th></th>\n",
       "      <th>market_open</th>\n",
       "      <th>break_start</th>\n",
       "      <th>break_end</th>\n",
       "      <th>market_close</th>\n",
       "    </tr>\n",
       "  </thead>\n",
       "  <tbody>\n",
       "    <tr>\n",
       "      <th>2021-01-04 00:00:00+00:00</th>\n",
       "      <td>2021-01-04 01:30:00</td>\n",
       "      <td>2021-01-04 04:00:00</td>\n",
       "      <td>2021-01-04 05:00:00</td>\n",
       "      <td>2021-01-04 08:00:00</td>\n",
       "    </tr>\n",
       "  </tbody>\n",
       "</table>\n",
       "</div>"
      ],
      "text/plain": [
       "                                  market_open         break_start  \\\n",
       "2021-01-04 00:00:00+00:00 2021-01-04 01:30:00 2021-01-04 04:00:00   \n",
       "\n",
       "                                    break_end        market_close  \n",
       "2021-01-04 00:00:00+00:00 2021-01-04 05:00:00 2021-01-04 08:00:00  "
      ]
     },
     "execution_count": 48,
     "metadata": {},
     "output_type": "execute_result"
    }
   ],
   "source": [
    "# recalling...\n",
    "xhkg.schedule.loc[[\"2021-01-04\"]]"
   ]
  },
  {
   "cell_type": "code",
   "execution_count": 49,
   "metadata": {},
   "outputs": [
    {
     "data": {
      "text/plain": [
       "DatetimeIndex(['2021-01-04 03:55:00+00:00', '2021-01-04 03:56:00+00:00',\n",
       "               '2021-01-04 03:57:00+00:00', '2021-01-04 03:58:00+00:00',\n",
       "               '2021-01-04 03:59:00+00:00', '2021-01-04 05:00:00+00:00',\n",
       "               '2021-01-04 05:01:00+00:00', '2021-01-04 05:02:00+00:00',\n",
       "               '2021-01-04 05:03:00+00:00', '2021-01-04 05:04:00+00:00',\n",
       "               '2021-01-04 05:05:00+00:00'],\n",
       "              dtype='datetime64[ns, UTC]', freq=None)"
      ]
     },
     "execution_count": 49,
     "metadata": {},
     "output_type": "execute_result"
    }
   ],
   "source": [
    "xhkg.minutes_in_range(\"2021-01-04 03:55\", \"2021-01-04 05:05\")"
   ]
  },
  {
   "cell_type": "code",
   "execution_count": 50,
   "metadata": {},
   "outputs": [
    {
     "data": {
      "text/plain": [
       "DatetimeIndex(['2021-01-04 05:00:00+00:00', '2021-01-04 05:01:00+00:00',\n",
       "               '2021-01-04 05:02:00+00:00', '2021-01-04 05:03:00+00:00',\n",
       "               '2021-01-04 05:04:00+00:00', '2021-01-04 05:05:00+00:00'],\n",
       "              dtype='datetime64[ns, UTC]', freq=None)"
      ]
     },
     "execution_count": 50,
     "metadata": {},
     "output_type": "execute_result"
    }
   ],
   "source": [
    "# `start_minute` does not have to represent a trading minute\n",
    "xhkg.minutes_in_range(\"2021-01-04 04:30\", \"2021-01-04 05:05\")"
   ]
  },
  {
   "cell_type": "markdown",
   "metadata": {},
   "source": [
    "Alternatively, **`minutes_window`** can be used to create an index of TradingMinute of a defined length, anchored by the given TradingMinute."
   ]
  },
  {
   "cell_type": "code",
   "execution_count": 51,
   "metadata": {},
   "outputs": [
    {
     "data": {
      "text/plain": [
       "DatetimeIndex(['2021-01-04 07:55:00+00:00', '2021-01-04 07:56:00+00:00',\n",
       "               '2021-01-04 07:57:00+00:00', '2021-01-04 07:58:00+00:00',\n",
       "               '2021-01-04 07:59:00+00:00', '2021-01-05 01:30:00+00:00',\n",
       "               '2021-01-05 01:31:00+00:00', '2021-01-05 01:32:00+00:00',\n",
       "               '2021-01-05 01:33:00+00:00', '2021-01-05 01:34:00+00:00'],\n",
       "              dtype='datetime64[ns, UTC]', freq=None)"
      ]
     },
     "execution_count": 51,
     "metadata": {},
     "output_type": "execute_result"
    }
   ],
   "source": [
    "xhkg.minutes_window(\"2021-01-04 07:55\", count=9)"
   ]
  },
  {
   "cell_type": "markdown",
   "metadata": {},
   "source": [
    "Or if you want, work backwards from `minute`..."
   ]
  },
  {
   "cell_type": "code",
   "execution_count": 52,
   "metadata": {},
   "outputs": [
    {
     "data": {
      "text/plain": [
       "DatetimeIndex(['2021-01-04 07:46:00+00:00', '2021-01-04 07:47:00+00:00',\n",
       "               '2021-01-04 07:48:00+00:00', '2021-01-04 07:49:00+00:00',\n",
       "               '2021-01-04 07:50:00+00:00', '2021-01-04 07:51:00+00:00',\n",
       "               '2021-01-04 07:52:00+00:00', '2021-01-04 07:53:00+00:00',\n",
       "               '2021-01-04 07:54:00+00:00', '2021-01-04 07:55:00+00:00'],\n",
       "              dtype='datetime64[ns, UTC]', freq=None)"
      ]
     },
     "execution_count": 52,
     "metadata": {},
     "output_type": "execute_result"
    }
   ],
   "source": [
    "xhkg.minutes_window(\"2021-01-04 07:55\", count=-9)"
   ]
  },
  {
   "cell_type": "markdown",
   "metadata": {},
   "source": [
    "**NB** The index will have length one greater than the `count` (this behaviour may change in release 4.0, see [#61](https://github.com/gerrymanoim/exchange_calendars/issues/61))."
   ]
  },
  {
   "cell_type": "markdown",
   "metadata": {},
   "source": [
    "### Methods that query multiple TradingMinute"
   ]
  },
  {
   "cell_type": "markdown",
   "metadata": {},
   "source": [
    "**`minutes_to_sessions`** does for multiple TradingMinute what `minute_to_session` does for one. However, this method is limited by requiring every minute of `minutes` to be a trading minute (i.e. there's no `direction` parameter available for this one). Also, whilst minutes do not need to be contiguous, they do need to be ordered ascendingly."
   ]
  },
  {
   "cell_type": "code",
   "execution_count": 53,
   "metadata": {},
   "outputs": [
    {
     "data": {
      "text/plain": [
       "2021-12-08 00:00:00+00:00   2021-12-08 14:35:00+00:00\n",
       "2021-12-09 00:00:00+00:00   2021-12-09 14:35:00+00:00\n",
       "2021-12-10 00:00:00+00:00   2021-12-10 14:35:00+00:00\n",
       "2021-12-13 00:00:00+00:00   2021-12-13 14:35:00+00:00\n",
       "2021-12-14 00:00:00+00:00   2021-12-14 14:35:00+00:00\n",
       "Freq: C, Name: first_minutes, dtype: datetime64[ns, UTC]"
      ]
     },
     "execution_count": 53,
     "metadata": {},
     "output_type": "execute_result"
    }
   ],
   "source": [
    "# set up a minute index..\n",
    "ser = xnys.all_first_minutes[-200:-195] + (one_minute * 5)\n",
    "ser"
   ]
  },
  {
   "cell_type": "code",
   "execution_count": 54,
   "metadata": {},
   "outputs": [
    {
     "data": {
      "text/plain": [
       "DatetimeIndex(['2021-12-08 14:35:00+00:00', '2021-12-13 14:35:00+00:00',\n",
       "               '2021-12-14 14:35:00+00:00'],\n",
       "              dtype='datetime64[ns, UTC]', name='first_minutes', freq=None)"
      ]
     },
     "execution_count": 54,
     "metadata": {},
     "output_type": "execute_result"
    }
   ],
   "source": [
    "mins = pd.DatetimeIndex(ser)\n",
    "mins = mins[:1].union(mins[-2:], sort=False)\n",
    "mins"
   ]
  },
  {
   "cell_type": "code",
   "execution_count": 55,
   "metadata": {},
   "outputs": [
    {
     "data": {
      "text/plain": [
       "DatetimeIndex(['2021-12-08 00:00:00+00:00', '2021-12-13 00:00:00+00:00',\n",
       "               '2021-12-14 00:00:00+00:00'],\n",
       "              dtype='datetime64[ns, UTC]', freq=None)"
      ]
     },
     "execution_count": 55,
     "metadata": {},
     "output_type": "execute_result"
    }
   ],
   "source": [
    "xnys.minute_index_to_session_labels(mins)"
   ]
  },
  {
   "cell_type": "code",
   "execution_count": 56,
   "metadata": {},
   "outputs": [
    {
     "data": {
      "text/plain": [
       "DatetimeIndex(['2021-12-08 00:00:00+00:00', '2021-12-09 00:00:00+00:00',\n",
       "               '2021-12-10 00:00:00+00:00', '2021-12-13 00:00:00+00:00',\n",
       "               '2021-12-14 00:00:00+00:00'],\n",
       "              dtype='datetime64[ns, UTC]', freq=None)"
      ]
     },
     "execution_count": 56,
     "metadata": {},
     "output_type": "execute_result"
    }
   ],
   "source": [
    "# NB `minutes` can also be defined as a Series...\n",
    "xnys.minute_index_to_session_labels(ser)"
   ]
  },
  {
   "cell_type": "markdown",
   "metadata": {},
   "source": [
    "### Methods that evaluate an index of contiguous Session"
   ]
  },
  {
   "cell_type": "markdown",
   "metadata": {},
   "source": [
    "**`sessions_in_range`** does for sessions what `minutes_in_range` does for minutes. Returns an index of all the sessions between `start_session` and `end_session`. Parameters take `Date` type (i.e. do not need to represent actual sessions)."
   ]
  },
  {
   "cell_type": "code",
   "execution_count": 57,
   "metadata": {},
   "outputs": [
    {
     "data": {
      "text/plain": [
       "DatetimeIndex(['2020-01-02 00:00:00+00:00', '2020-01-03 00:00:00+00:00',\n",
       "               '2020-01-06 00:00:00+00:00', '2020-01-07 00:00:00+00:00',\n",
       "               '2020-01-08 00:00:00+00:00', '2020-01-09 00:00:00+00:00',\n",
       "               '2020-01-10 00:00:00+00:00', '2020-01-13 00:00:00+00:00',\n",
       "               '2020-01-14 00:00:00+00:00', '2020-01-15 00:00:00+00:00',\n",
       "               ...\n",
       "               '2020-12-17 00:00:00+00:00', '2020-12-18 00:00:00+00:00',\n",
       "               '2020-12-21 00:00:00+00:00', '2020-12-22 00:00:00+00:00',\n",
       "               '2020-12-23 00:00:00+00:00', '2020-12-24 00:00:00+00:00',\n",
       "               '2020-12-28 00:00:00+00:00', '2020-12-29 00:00:00+00:00',\n",
       "               '2020-12-30 00:00:00+00:00', '2020-12-31 00:00:00+00:00'],\n",
       "              dtype='datetime64[ns, UTC]', length=253, freq='C')"
      ]
     },
     "execution_count": 57,
     "metadata": {},
     "output_type": "execute_result"
    }
   ],
   "source": [
    "xnys.sessions_in_range(\"2020\", \"2020-12-31\")"
   ]
  },
  {
   "cell_type": "markdown",
   "metadata": {},
   "source": [
    "**`sessions_window`** holds no surprises if you're familiar with `minutes_window`..."
   ]
  },
  {
   "cell_type": "code",
   "execution_count": 58,
   "metadata": {},
   "outputs": [
    {
     "data": {
      "text/plain": [
       "DatetimeIndex(['2020-12-23 00:00:00+00:00', '2020-12-24 00:00:00+00:00',\n",
       "               '2020-12-28 00:00:00+00:00', '2020-12-29 00:00:00+00:00'],\n",
       "              dtype='datetime64[ns, UTC]', freq='C')"
      ]
     },
     "execution_count": 58,
     "metadata": {},
     "output_type": "execute_result"
    }
   ],
   "source": [
    "xnys.sessions_window(\"2020-12-23\", 3)"
   ]
  },
  {
   "cell_type": "code",
   "execution_count": 59,
   "metadata": {},
   "outputs": [
    {
     "data": {
      "text/plain": [
       "DatetimeIndex(['2020-12-18 00:00:00+00:00', '2020-12-21 00:00:00+00:00',\n",
       "               '2020-12-22 00:00:00+00:00', '2020-12-23 00:00:00+00:00'],\n",
       "              dtype='datetime64[ns, UTC]', freq='C')"
      ]
     },
     "execution_count": 59,
     "metadata": {},
     "output_type": "execute_result"
    }
   ],
   "source": [
    "xnys.sessions_window(\"2020-12-23\", -3)"
   ]
  },
  {
   "cell_type": "markdown",
   "metadata": {},
   "source": [
    "**NB** As for `minutes_window`, the length of the returned index is one greater than `count` (...and again this may change with release 4.0, see [#61](https://github.com/gerrymanoim/exchange_calendars/issues/61))"
   ]
  },
  {
   "cell_type": "markdown",
   "metadata": {},
   "source": [
    "### Methods that query a Date/Session range"
   ]
  },
  {
   "cell_type": "markdown",
   "metadata": {},
   "source": [
    "The methods in this section query a range of sessions from `start_session` through `end_session` (inclusive of both). Both parameters take a `Date` (i.e they can but do not have to represent a session)."
   ]
  },
  {
   "cell_type": "code",
   "execution_count": 60,
   "metadata": {},
   "outputs": [
    {
     "data": {
      "text/html": [
       "<div>\n",
       "<style scoped>\n",
       "    .dataframe tbody tr th:only-of-type {\n",
       "        vertical-align: middle;\n",
       "    }\n",
       "\n",
       "    .dataframe tbody tr th {\n",
       "        vertical-align: top;\n",
       "    }\n",
       "\n",
       "    .dataframe thead th {\n",
       "        text-align: right;\n",
       "    }\n",
       "</style>\n",
       "<table border=\"1\" class=\"dataframe\">\n",
       "  <thead>\n",
       "    <tr style=\"text-align: right;\">\n",
       "      <th></th>\n",
       "      <th>market_open</th>\n",
       "      <th>break_start</th>\n",
       "      <th>break_end</th>\n",
       "      <th>market_close</th>\n",
       "    </tr>\n",
       "  </thead>\n",
       "  <tbody>\n",
       "    <tr>\n",
       "      <th>2021-12-23 00:00:00+00:00</th>\n",
       "      <td>2021-12-23 14:30:00</td>\n",
       "      <td>NaT</td>\n",
       "      <td>NaT</td>\n",
       "      <td>2021-12-23 21:00:00</td>\n",
       "    </tr>\n",
       "    <tr>\n",
       "      <th>2021-12-27 00:00:00+00:00</th>\n",
       "      <td>2021-12-27 14:30:00</td>\n",
       "      <td>NaT</td>\n",
       "      <td>NaT</td>\n",
       "      <td>2021-12-27 21:00:00</td>\n",
       "    </tr>\n",
       "    <tr>\n",
       "      <th>2021-12-28 00:00:00+00:00</th>\n",
       "      <td>2021-12-28 14:30:00</td>\n",
       "      <td>NaT</td>\n",
       "      <td>NaT</td>\n",
       "      <td>2021-12-28 21:00:00</td>\n",
       "    </tr>\n",
       "    <tr>\n",
       "      <th>2021-12-29 00:00:00+00:00</th>\n",
       "      <td>2021-12-29 14:30:00</td>\n",
       "      <td>NaT</td>\n",
       "      <td>NaT</td>\n",
       "      <td>2021-12-29 21:00:00</td>\n",
       "    </tr>\n",
       "  </tbody>\n",
       "</table>\n",
       "</div>"
      ],
      "text/plain": [
       "                                  market_open break_start break_end  \\\n",
       "2021-12-23 00:00:00+00:00 2021-12-23 14:30:00         NaT       NaT   \n",
       "2021-12-27 00:00:00+00:00 2021-12-27 14:30:00         NaT       NaT   \n",
       "2021-12-28 00:00:00+00:00 2021-12-28 14:30:00         NaT       NaT   \n",
       "2021-12-29 00:00:00+00:00 2021-12-29 14:30:00         NaT       NaT   \n",
       "\n",
       "                                 market_close  \n",
       "2021-12-23 00:00:00+00:00 2021-12-23 21:00:00  \n",
       "2021-12-27 00:00:00+00:00 2021-12-27 21:00:00  \n",
       "2021-12-28 00:00:00+00:00 2021-12-28 21:00:00  \n",
       "2021-12-29 00:00:00+00:00 2021-12-29 21:00:00  "
      ]
     },
     "execution_count": 60,
     "metadata": {},
     "output_type": "execute_result"
    }
   ],
   "source": [
    "start_session, end_session = \"2021-12-23\", \"2021-12-29\"\n",
    "# for reference\n",
    "xnys.schedule.loc[start_session:end_session]"
   ]
  },
  {
   "cell_type": "markdown",
   "metadata": {},
   "source": [
    "**`sessions_distance`** returns the number of sessions in the range."
   ]
  },
  {
   "cell_type": "code",
   "execution_count": 61,
   "metadata": {},
   "outputs": [
    {
     "data": {
      "text/plain": [
       "4"
      ]
     },
     "execution_count": 61,
     "metadata": {},
     "output_type": "execute_result"
    }
   ],
   "source": [
    "xnys.session_distance(start_session, end_session)"
   ]
  },
  {
   "cell_type": "markdown",
   "metadata": {},
   "source": [
    "**`sessions_minutes`** returns an index comprised of the TradingMinutes of all sessions in the given range."
   ]
  },
  {
   "cell_type": "code",
   "execution_count": 62,
   "metadata": {},
   "outputs": [
    {
     "data": {
      "text/plain": [
       "DatetimeIndex(['2021-12-23 14:30:00+00:00', '2021-12-23 14:31:00+00:00',\n",
       "               '2021-12-23 14:32:00+00:00', '2021-12-23 14:33:00+00:00',\n",
       "               '2021-12-23 14:34:00+00:00', '2021-12-23 14:35:00+00:00',\n",
       "               '2021-12-23 14:36:00+00:00', '2021-12-23 14:37:00+00:00',\n",
       "               '2021-12-23 14:38:00+00:00', '2021-12-23 14:39:00+00:00',\n",
       "               ...\n",
       "               '2021-12-29 20:50:00+00:00', '2021-12-29 20:51:00+00:00',\n",
       "               '2021-12-29 20:52:00+00:00', '2021-12-29 20:53:00+00:00',\n",
       "               '2021-12-29 20:54:00+00:00', '2021-12-29 20:55:00+00:00',\n",
       "               '2021-12-29 20:56:00+00:00', '2021-12-29 20:57:00+00:00',\n",
       "               '2021-12-29 20:58:00+00:00', '2021-12-29 20:59:00+00:00'],\n",
       "              dtype='datetime64[ns, UTC]', length=1560, freq=None)"
      ]
     },
     "execution_count": 62,
     "metadata": {},
     "output_type": "execute_result"
    }
   ],
   "source": [
    "xnys.minutes_for_sessions_in_range(start_session, end_session)"
   ]
  },
  {
   "cell_type": "markdown",
   "metadata": {},
   "source": [
    "**`sessions_minutes_count`** returns just the number of trading minutes corresponding to the session range."
   ]
  },
  {
   "cell_type": "code",
   "execution_count": 63,
   "metadata": {},
   "outputs": [
    {
     "data": {
      "text/plain": [
       "1560"
      ]
     },
     "execution_count": 63,
     "metadata": {},
     "output_type": "execute_result"
    }
   ],
   "source": [
    "xnys.minutes_count_for_sessions_in_range(start_session, end_session)"
   ]
  },
  {
   "cell_type": "code",
   "execution_count": 64,
   "metadata": {},
   "outputs": [
    {
     "data": {
      "text/plain": [
       "1560"
      ]
     },
     "execution_count": 64,
     "metadata": {},
     "output_type": "execute_result"
    }
   ],
   "source": [
    "# i.e. `sessions_minutes_count` behaves as...\n",
    "len(xnys.minutes_for_sessions_in_range(start_session, end_session))"
   ]
  },
  {
   "cell_type": "markdown",
   "metadata": {},
   "source": [
    "**`session_opens`** and **`sessions_closes`** return pd.Series describing open/close times over the session range."
   ]
  },
  {
   "cell_type": "code",
   "execution_count": 65,
   "metadata": {},
   "outputs": [
    {
     "data": {
      "text/plain": [
       "2021-12-23 00:00:00+00:00   2021-12-23 14:30:00+00:00\n",
       "2021-12-27 00:00:00+00:00   2021-12-27 14:30:00+00:00\n",
       "2021-12-28 00:00:00+00:00   2021-12-28 14:30:00+00:00\n",
       "2021-12-29 00:00:00+00:00   2021-12-29 14:30:00+00:00\n",
       "Freq: C, Name: market_open, dtype: datetime64[ns, UTC]"
      ]
     },
     "execution_count": 65,
     "metadata": {},
     "output_type": "execute_result"
    }
   ],
   "source": [
    "xnys.session_opens_in_range(start_session, end_session)"
   ]
  },
  {
   "cell_type": "markdown",
   "metadata": {},
   "source": [
    "NB the return differs from the following only in that **`session_opens`** returns as tz \"UTC\""
   ]
  },
  {
   "cell_type": "code",
   "execution_count": 66,
   "metadata": {},
   "outputs": [
    {
     "data": {
      "text/plain": [
       "2021-12-23 00:00:00+00:00   2021-12-23 14:30:00\n",
       "2021-12-27 00:00:00+00:00   2021-12-27 14:30:00\n",
       "2021-12-28 00:00:00+00:00   2021-12-28 14:30:00\n",
       "2021-12-29 00:00:00+00:00   2021-12-29 14:30:00\n",
       "Freq: C, Name: market_open, dtype: datetime64[ns]"
      ]
     },
     "execution_count": 66,
     "metadata": {},
     "output_type": "execute_result"
    }
   ],
   "source": [
    "xnys.opens[start_session:end_session]"
   ]
  },
  {
   "cell_type": "markdown",
   "metadata": {},
   "source": [
    "...and following release 4.0 ([see #61](https://github.com/gerrymanoim/exchange_calendars/issues/61)) there will probably be no difference."
   ]
  }
 ],
 "metadata": {
  "kernelspec": {
   "display_name": "xcals 3.7",
   "language": "python",
   "name": "xcals"
  },
  "language_info": {
   "codemirror_mode": {
    "name": "ipython",
    "version": 3
   },
   "file_extension": ".py",
   "mimetype": "text/x-python",
   "name": "python",
   "nbconvert_exporter": "python",
   "pygments_lexer": "ipython3",
   "version": "3.7.0"
  },
  "widgets": {
   "application/vnd.jupyter.widget-state+json": {
    "state": {},
    "version_major": 2,
    "version_minor": 0
   }
  }
 },
 "nbformat": 4,
 "nbformat_minor": 4
}
